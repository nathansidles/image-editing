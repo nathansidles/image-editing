{
 "cells": [
  {
   "cell_type": "markdown",
   "id": "d49f25d7",
   "metadata": {},
   "source": [
    "This is a Jupyter Notebook. It is a friendly environment for running Python code. It is currently running in a containerized environment in Docker.\n",
    "\n",
    "Jupyter Notebooks divide code into cells. Cells can alter the environment that they are all running in, so the order of cell execution matters. For example, a call that creates a variable named \"test\" will enable other cells to use that variable.\n",
    "\n",
    "Click the \"Run\" button to execute the code in a specific cell.\n",
    "\n",
    "Notes:\n",
    "\n",
    "1. After you run the two cells below this one, there will be a new folder created in the `data/nsl-jupyter` folder with the new watermarked images.\n",
    "1. This code is only able to accept directories that are in the `data/nsl-jupyter` folder. It does not have access to any folders on your computer that are higher in the directory structure than that.\n",
    "1. Running this process multiple times will overwrite identically named-and-located files in the destination directory.\n",
    "1. This code will not affect files in the source directory."
   ]
  },
  {
   "cell_type": "code",
   "execution_count": null,
   "id": "e843f449",
   "metadata": {},
   "outputs": [],
   "source": [
    "# This code is necessary to import Image editing code because all the application\n",
    "# code is in the \"/tmp\" folder from the perspective of this Dockerized Jupyter\n",
    "# notebook.\n",
    "import sys\n",
    "sys.path.append('/tmp')\n",
    "\n",
    "# This code imports the code that performs the watermarking.\n",
    "from editor.children.editor_v1 import EditorV1 as Editor"
   ]
  },
  {
   "cell_type": "code",
   "execution_count": null,
   "id": "3a12d59b",
   "metadata": {},
   "outputs": [],
   "source": [
    "# This code will perform the watermarking. It works by recursively iterating\n",
    "# through the directories in the \"source\" parameter. It copies the directories\n",
    "# and images in that \"source\" directory into a new \"destination\" directory. It\n",
    "# attaches a watermark to the lower left corner of the images that it creates in\n",
    "# the \"destination\" directory. It does not alter the images in the \"source\"\n",
    "# directory.\n",
    "\n",
    "Editor.watermark(source='example_source_directory',\n",
    "                 destination='example_destination_directory',\n",
    "                 message='Copyright Alex Sidles, 2022')"
   ]
  },
  {
   "cell_type": "code",
   "execution_count": null,
   "id": "b0ad6139",
   "metadata": {},
   "outputs": [],
   "source": []
  }
 ],
 "metadata": {
  "kernelspec": {
   "display_name": "Python 3 (ipykernel)",
   "language": "python",
   "name": "python3"
  },
  "language_info": {
   "codemirror_mode": {
    "name": "ipython",
    "version": 3
   },
   "file_extension": ".py",
   "mimetype": "text/x-python",
   "name": "python",
   "nbconvert_exporter": "python",
   "pygments_lexer": "ipython3",
   "version": "3.9.7"
  }
 },
 "nbformat": 4,
 "nbformat_minor": 5
}
